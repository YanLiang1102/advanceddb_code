{
 "cells": [
  {
   "cell_type": "code",
   "execution_count": 2,
   "metadata": {
    "collapsed": true
   },
   "outputs": [],
   "source": [
    "#tl is the television property list\n",
    "#use python list structure to denote a composite attribute,\n",
    "tl=[\"product_type\",\"product_id\"];\n",
    "#\"price\" inside of the list is using for detection\n",
    "price=[\"price\",\"regular_price\",\"discount_price\"]\n",
    "shipping_size=[\"shipping_size\",\"length\",\"width\",\"depth\"]\n",
    "tl.append(price)\n",
    "tl.append(shipping_size)\n",
    "tl.append(\"brand\")\n",
    "tl.append(\"size\")\n",
    "tl.append(\"type\")\n",
    "tl.append(\"three_d\")\n",
    "tl.append(\"frequency\")\n",
    "tl.append(\"resolution\")\n",
    "tl.append(\"input_lag\")\n",
    "tl.append(\"inputs\")\n"
   ]
  },
  {
   "cell_type": "code",
   "execution_count": 3,
   "metadata": {
    "collapsed": false
   },
   "outputs": [
    {
     "data": {
      "text/plain": [
       "['product_type',\n",
       " 'product_id',\n",
       " ['price', 'regular_price', 'discount_price'],\n",
       " ['shipping_size', 'length', 'width', 'depth'],\n",
       " 'brand',\n",
       " 'size',\n",
       " 'type',\n",
       " 'three_d',\n",
       " 'frequency',\n",
       " 'resolution',\n",
       " 'input_lag',\n",
       " 'inputs']"
      ]
     },
     "execution_count": 3,
     "metadata": {},
     "output_type": "execute_result"
    }
   ],
   "source": [
    "tl"
   ]
  },
  {
   "cell_type": "code",
   "execution_count": 36,
   "metadata": {
    "collapsed": true
   },
   "outputs": [],
   "source": [
    "cm=[\"product_type\",\"product_id\"]\n",
    "price=[\"price\",\"regular_price\",\"discount_price\"]\n",
    "shipping_size=[\"shipping_size\",\"length\",\"width\",\"depth\"]\n",
    "cm.append(price)\n",
    "cm.append(shipping_size)\n",
    "cm.append(\"brand\")\n",
    "cm.append(\"size\")\n",
    "cm.append(\"type\")\n",
    "cm.append(\"frequency\")\n",
    "cm.append(\"resolution\")\n",
    "cm.append(\"input_lag\")"
   ]
  },
  {
   "cell_type": "code",
   "execution_count": 66,
   "metadata": {
    "collapsed": false
   },
   "outputs": [],
   "source": [
    "dc=[\"product_type\",\"product_id\"]\n",
    "price=[\"price\",\"regular_price\",\"discount_price\"]\n",
    "shipping_size=[\"shipping_size\",\"length\",\"width\",\"depth\"]\n",
    "dc.append(price)\n",
    "dc.append(shipping_size)\n",
    "dc.append(\"brand\")\n",
    "dc.append(\"num_cores\")\n",
    "dc.append(\"size\") #not in the instructio, instruction missing this\n",
    "#should be product type instead of product id, isntruction is wrong\n",
    "hard_drive=[\"hard_drive\",\"product_type\",\"brand\",\"rpm\",\"hdd_type\",\"hdd_size\",\"form_factor\",\"cache_size\",\"interface\"]\n",
    "dc.append(hard_drive)\n",
    "dc.append(\"regular_or_not\")#not in the instruction too\n",
    "computer_monitor=[\"computer_monitor\",\"product_type\",\"brand\",\"size\",\"type\",\"frequency\",\"resolution\",\"input_lag\"]\n",
    "dc.append(computer_monitor)\n",
    "dc.append(\"battery_duration\")\n",
    "dc.append(\"OS\")\n",
    "dc.append(\"peripherals\")\n",
    "\n"
   ]
  },
  {
   "cell_type": "code",
   "execution_count": 65,
   "metadata": {
    "collapsed": true
   },
   "outputs": [],
   "source": [
    "hd=[\"product_type\",\"product_id\"]\n",
    "price=[\"price\",\"regular_price\",\"discount_price\"]\n",
    "shipping_size=[\"shipping_size\",\"length\",\"width\",\"depth\"]\n",
    "hd.append(price)\n",
    "hd.append(shipping_size)\n",
    "hd.append(\"brand\")\n",
    "hd.append(\"rpm\")\n",
    "hd.append(\"hdd_type\")\n",
    "hd.append(\"hdd_size\")\n",
    "hd.append(\"form_factor\")\n",
    "hd.append(\"cache_size\")\n",
    "hd.append(\"interface\")"
   ]
  },
  {
   "cell_type": "code",
   "execution_count": 62,
   "metadata": {
    "collapsed": true
   },
   "outputs": [],
   "source": [
    "dg=[\"product_type\",\"product_id\"]\n",
    "price=[\"price\",\"regular_price\",\"discount_price\"]\n",
    "shipping_size=[\"shipping_size\",\"length\",\"width\",\"depth\"]\n",
    "dg.append(price)\n",
    "dg.append(shipping_size)\n",
    "dg.append(\"brand\")\n",
    "dg.append(\"megapixels\")\n",
    "dg.append(\"sensor_size\")\n",
    "dg.append(\"max_iso\")\n",
    "dg.append(\"memory_card_type\")\n",
    "dg.append(\"camera_type\")\n",
    "viewfinder=[\"viewfinder\",\"construction\",\"coverage\",\"eye_relief\"]\n",
    "dg.append(viewfinder)\n",
    "dg.append(\"frames_per_second\")\n",
    "dg.append(\"num_focus_points\")\n",
    "dg.append(\"focal_length\")\n",
    "dg.append(\"min_aperture\")"
   ]
  },
  {
   "cell_type": "code",
   "execution_count": 4,
   "metadata": {
    "collapsed": true
   },
   "outputs": [],
   "source": [
    "lines = [line.rstrip('\\n') for line in open('catalog.txt')]"
   ]
  },
  {
   "cell_type": "code",
   "execution_count": 5,
   "metadata": {
    "collapsed": false
   },
   "outputs": [
    {
     "data": {
      "text/plain": [
       "'computer_monitor,6,4114.61,2632.09,74.44,21.36,19.02,Vizio,21in,3D,60Hz,1080i,23ms'"
      ]
     },
     "execution_count": 5,
     "metadata": {},
     "output_type": "execute_result"
    }
   ],
   "source": [
    "lines[1]"
   ]
  },
  {
   "cell_type": "code",
   "execution_count": 6,
   "metadata": {
    "collapsed": false
   },
   "outputs": [
    {
     "data": {
      "text/plain": [
       "'computer_monitor,5,4865.36,1983.35,62.75,94.53,11.46,Sanyo,27in,No 3D,120Hz,4K,20ms'"
      ]
     },
     "execution_count": 6,
     "metadata": {},
     "output_type": "execute_result"
    }
   ],
   "source": [
    "lines[0]"
   ]
  },
  {
   "cell_type": "code",
   "execution_count": 7,
   "metadata": {
    "collapsed": true
   },
   "outputs": [],
   "source": [
    "#this is the way to cluster the same thing together.\n",
    "test=lines[0].startswith(\"des\")"
   ]
  },
  {
   "cell_type": "code",
   "execution_count": 9,
   "metadata": {
    "collapsed": false
   },
   "outputs": [],
   "source": [
    "#cluster all the product in its respect cluster then easy for us to parse later\n",
    "tellist=[]\n",
    "cmlist=[]\n",
    "desklist=[]\n",
    "hardlist=[]\n",
    "digitallist=[]\n",
    "others=[]\n",
    "for item in lines:\n",
    "    if item.startswith(\"computer_monitor\"):\n",
    "        cmlist.append(item)\n",
    "    elif item.startswith(\"television\"):\n",
    "        tellist.append(item)\n",
    "    elif item.startswith(\"desktop\"):\n",
    "        desklist.append(item)\n",
    "    elif item.startswith(\"hard\"):\n",
    "        hardlist.append(item)\n",
    "    elif item.startswith(\"digital\"):\n",
    "        digitallist.append(item)\n",
    "    else:\n",
    "        others.append(item)"
   ]
  },
  {
   "cell_type": "code",
   "execution_count": 28,
   "metadata": {
    "collapsed": false
   },
   "outputs": [
    {
     "data": {
      "text/plain": [
       "20036"
      ]
     },
     "execution_count": 28,
     "metadata": {},
     "output_type": "execute_result"
    }
   ],
   "source": [
    "len(tellist)"
   ]
  },
  {
   "cell_type": "code",
   "execution_count": 10,
   "metadata": {
    "collapsed": false
   },
   "outputs": [],
   "source": [
    "totallength=len(tellist)+len(cmlist)+len(desklist)+len(hardlist)+len(digitallist)+len(others)"
   ]
  },
  {
   "cell_type": "code",
   "execution_count": 11,
   "metadata": {
    "collapsed": false
   },
   "outputs": [
    {
     "data": {
      "text/plain": [
       "100000"
      ]
     },
     "execution_count": 11,
     "metadata": {},
     "output_type": "execute_result"
    }
   ],
   "source": [
    "totallength"
   ]
  },
  {
   "cell_type": "code",
   "execution_count": 12,
   "metadata": {
    "collapsed": false
   },
   "outputs": [
    {
     "data": {
      "text/plain": [
       "100000"
      ]
     },
     "execution_count": 12,
     "metadata": {},
     "output_type": "execute_result"
    }
   ],
   "source": [
    "len(lines)"
   ]
  },
  {
   "cell_type": "code",
   "execution_count": 13,
   "metadata": {
    "collapsed": false
   },
   "outputs": [
    {
     "data": {
      "text/plain": [
       "[]"
      ]
     },
     "execution_count": 13,
     "metadata": {},
     "output_type": "execute_result"
    }
   ],
   "source": [
    "# so yeah we just approved that there is nothing in others.\n",
    "others"
   ]
  },
  {
   "cell_type": "markdown",
   "metadata": {},
   "source": [
    "db.people.insert( [ {“_id” : 32,\n",
    "“firstname”: “Don”,\n",
    "“lastname”: “Tillman” ,\n",
    "“age” : 30} ,\n",
    "{“_id” : 5454,\n",
    "“firstname”: “David”,\n",
    "“lastname”: “Boren” ,\n",
    "“age” : 74,\n",
    "“salary”: 3000.00}\n",
    "]\n",
    ")\n",
    "\n"
   ]
  },
  {
   "cell_type": "code",
   "execution_count": 16,
   "metadata": {
    "collapsed": false
   },
   "outputs": [],
   "source": [
    "def insertStringGenerator(itemlist,proplist):\n",
    "    insertTel=\"db.product_yan.insert([\"\n",
    "    propertyLength=len(proplist)\n",
    "    for item in itemlist:\n",
    "        #need to parse the string with , into a list itself\n",
    "        itemValue=item.split(\",\")\n",
    "        temp=\"{\"\n",
    "        j=0 #j is the counter for itemValue\n",
    "        for i in range(0,propertyLength):\n",
    "            if(not isinstance(proplist[i],list) and proplist[i]!=\"inputs\" and proplist[i]!=\"peripherals\"):\n",
    "                temp=temp+\"'\"+proplist[i]+\"':\"+\"'\"+itemValue[j]+\"',\"\n",
    "                j=j+1\n",
    "                #print(temp+\"\\n\")\n",
    "            elif(isinstance(proplist[i],list) and proplist[i][0].startswith(\"price\")):\n",
    "                temp=temp+\"'price':{'regular_price':\"+itemValue[j]+\",\"+\"'discount_price':\"+itemValue[j+1]+\"},\"\n",
    "                j=j+2\n",
    "            elif(isinstance(proplist[i],list)):\n",
    "                temp=temp+proplist[i][0]+\":{\";\n",
    "                proplength=len(proplist[i])\n",
    "                for k in range(1,proplength):\n",
    "                    temp=temp+\"'\"+proplist[i][k]+\"':\"+\"'\"+itemValue[j+k-1]+\"',\"\n",
    "                temp=temp[:-1]+\"},\"\n",
    "                j=j+proplength-1\n",
    "            elif(proplist[i]==\"inputs\" or proplist[i]==\"peripherals\"):\n",
    "                wholelength=len(itemValue)\n",
    "                #print(\"j is :\"+str(j)+\"\\n\")\n",
    "                #print(\"wholelength is: \"+str(wholelength)+\"\\n\")\n",
    "                innertemp=\"\"\n",
    "                for k in range(j,wholelength):\n",
    "                    innertemp=\"'\"+itemValue[k].replace('{','').replace('}','')+\"',\"\n",
    "                    #print(\"this is innertemp: \"+innertemp)\n",
    "                if(innertemp!=\"'',\"): #don't need to append anything if it is {}\n",
    "                    temp=temp+\"'\"+proplist[i]+\"':\"+\"[\"+innertemp\n",
    "                    temp=temp[:-1]+\"],\"\n",
    "        temp=temp[:-1]+\"},\"\n",
    "        insertTel=insertTel+temp;\n",
    "    insertTel=insertTel[:-1]+\"])\"\n",
    "    return insertTel"
   ]
  },
  {
   "cell_type": "code",
   "execution_count": 26,
   "metadata": {
    "collapsed": false
   },
   "outputs": [],
   "source": [
    "insertTVQuery=insertStringGenerator(tellist,tl)\n",
    "with open(\"tvInsertQuery.js\", \"w\") as text_file:\n",
    "    text_file.write(insertTVQuery)\n"
   ]
  },
  {
   "cell_type": "code",
   "execution_count": 50,
   "metadata": {
    "collapsed": true
   },
   "outputs": [],
   "source": [
    "insertComputerMon=insertStringGenerator(cmlist,cm)\n",
    "with open(\"cmInsert.js\", \"w\") as text_file:\n",
    "    text_file.write(insertComputerMon)\n"
   ]
  },
  {
   "cell_type": "code",
   "execution_count": 67,
   "metadata": {
    "collapsed": false
   },
   "outputs": [],
   "source": [
    "insertDesk=insertStringGenerator(desklist,dc)\n",
    "with open(\"deskInsert.js\", \"w\") as text_file:\n",
    "    text_file.write(insertDesk)"
   ]
  },
  {
   "cell_type": "code",
   "execution_count": 60,
   "metadata": {
    "collapsed": true
   },
   "outputs": [],
   "source": [
    "inserthd=insertStringGenerator(hardlist,hd)\n",
    "with open(\"hdInsert.js\", \"w\") as text_file:\n",
    "    text_file.write(inserthd)"
   ]
  },
  {
   "cell_type": "code",
   "execution_count": 63,
   "metadata": {
    "collapsed": true
   },
   "outputs": [],
   "source": [
    "insertdigital=insertStringGenerator(digitallist,dg)\n",
    "with open(\"digitalInsert.js\", \"w\") as text_file:\n",
    "    text_file.write(insertdigital)"
   ]
  },
  {
   "cell_type": "code",
   "execution_count": null,
   "metadata": {
    "collapsed": true
   },
   "outputs": [],
   "source": []
  }
 ],
 "metadata": {
  "kernelspec": {
   "display_name": "Python 2",
   "language": "python",
   "name": "python2"
  },
  "language_info": {
   "codemirror_mode": {
    "name": "ipython",
    "version": 2
   },
   "file_extension": ".py",
   "mimetype": "text/x-python",
   "name": "python",
   "nbconvert_exporter": "python",
   "pygments_lexer": "ipython2",
   "version": "2.7.6"
  }
 },
 "nbformat": 4,
 "nbformat_minor": 0
}
